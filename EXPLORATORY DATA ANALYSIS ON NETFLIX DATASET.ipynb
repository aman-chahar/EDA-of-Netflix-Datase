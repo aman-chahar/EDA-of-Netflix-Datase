{
 "cells": [
  {
   "cell_type": "markdown",
   "id": "67938105",
   "metadata": {
    "papermill": {
     "duration": 0.014592,
     "end_time": "2022-07-31T15:09:03.097871",
     "exception": false,
     "start_time": "2022-07-31T15:09:03.083279",
     "status": "completed"
    },
    "tags": []
   },
   "source": [
    "<h1 style=\"color:Maroon;font-size:30px; font-weight:bold;\"><center><b>EXPLORATORY DATA ANALYSIS ON NETFLIX DATASET</center></h1> "
   ]
  },
  {
   "cell_type": "markdown",
   "id": "568b01f2",
   "metadata": {
    "papermill": {
     "duration": 0.014187,
     "end_time": "2022-07-31T15:09:03.127370",
     "exception": false,
     "start_time": "2022-07-31T15:09:03.113183",
     "status": "completed"
    },
    "tags": []
   },
   "source": [
    "About Netflix\n",
    "\n",
    "Netflix, Inc. is an American subscription streaming service and production company. Launched on August 29, 1997, it offers a film and television series library through distribution deals as well as its own productions, known as Netflix Originals.\n",
    "\n",
    "As of March 31, 2022, Netflix had over 221.6 million subscribers worldwide, including 74.6 million in the United States and Canada, 74.0 million in Europe, the Middle East and Africa, 39.9 million in Latin America and 32.7 million in Asia-Pacific. It is available worldwide aside from Mainland China, Syria, North Korea, and Russia. Netflix has played a prominent role in independent film distribution, and it is a member of the Motion Picture Association (MPA).\n",
    "\n",
    "Netflix can be accessed via web browsers or via application software installed on smart TVs, set-top boxes connected to televisions, tablet computers, smartphones, digital media players, Blu-ray players, video game consoles and virtual reality headsets on the list of Netflix-compatible devices.It is available in 4K resolution. In the United States, the company provides DVD and Blu-ray rentals delivered individually via the United States Postal Service from regional warehouses.\n",
    "\n",
    "Netflix was founded on the aforementioned date by Reed Hastings and Marc Randolph in Scotts Valley, California. Netflix initially both sold and rented DVDs by mail, but the sales were eliminated within a year to focus on the DVD rental business. In 2007, Netflix introduced streaming media and video on demand. The company expanded to Canada in 2010, followed by Latin America and the Caribbean. Netflix entered the content-production industry in 2013, debuting its first series House of Cards. In January 2016, it expanded to an additional 130 countries and then operated in 190 countries.\n",
    "\n",
    "The company is ranked 115th on the Fortune 500 and 219th on the Forbes Global 2000. It is the second largest entertainment/media company by market capitalization as of February, 2022. In 2021, Netflix was ranked as the eighth-most trusted brand globally by Morning Consult.During the 2010s, Netflix was the top-performing stock in the S&P 500 stock market index, with a total return of 3,693%."
   ]
  },
  {
   "cell_type": "markdown",
   "id": "e3476312",
   "metadata": {},
   "source": [
    "### Data - Netflix Titles"
   ]
  },
  {
   "cell_type": "markdown",
   "id": "554b434b",
   "metadata": {},
   "source": [
    "The dataset (netflix_titles.csv) consists of tv shows and movies available on Netflix as of 2019 and contains information including:\n",
    "\n",
    "    General information: id, title, type (TV Show or Movie), director, cast and a brief description.\n",
    "    Date fields: When the show was released and when it was added to the catalog.\n",
    "    Categorization: Rating and category in which the show is listed.\n",
    "    \n",
    "The dataset provides a unique perspective on the world’s most lucrative cultural industry, reflected by Netflix: Movie and TV Production. "
   ]
  },
  {
   "cell_type": "markdown",
   "id": "c4aaf2df",
   "metadata": {
    "papermill": {
     "duration": 0.014348,
     "end_time": "2022-07-31T15:09:03.157106",
     "exception": false,
     "start_time": "2022-07-31T15:09:03.142758",
     "status": "completed"
    },
    "tags": []
   },
   "source": [
    "### Importing Required Libraries"
   ]
  },
  {
   "cell_type": "code",
   "execution_count": 1,
   "id": "97df2ad6",
   "metadata": {
    "execution": {
     "iopub.execute_input": "2022-07-31T15:09:03.188408Z",
     "iopub.status.busy": "2022-07-31T15:09:03.187663Z",
     "iopub.status.idle": "2022-07-31T15:09:06.502089Z",
     "shell.execute_reply": "2022-07-31T15:09:06.500665Z"
    },
    "papermill": {
     "duration": 3.3336,
     "end_time": "2022-07-31T15:09:06.505143",
     "exception": false,
     "start_time": "2022-07-31T15:09:03.171543",
     "status": "completed"
    },
    "tags": []
   },
   "outputs": [],
   "source": [
    "import numpy as np\n",
    "import pandas as pd\n",
    "import seaborn as sns\n",
    "import matplotlib.pyplot as plt \n",
    "import ast\n",
    "import random"
   ]
  },
  {
   "cell_type": "code",
   "execution_count": 2,
   "id": "1bd7bf31",
   "metadata": {
    "execution": {
     "iopub.execute_input": "2022-07-31T15:09:06.535810Z",
     "iopub.status.busy": "2022-07-31T15:09:06.535392Z",
     "iopub.status.idle": "2022-07-31T15:09:06.629434Z",
     "shell.execute_reply": "2022-07-31T15:09:06.628292Z"
    },
    "papermill": {
     "duration": 0.11258,
     "end_time": "2022-07-31T15:09:06.632277",
     "exception": false,
     "start_time": "2022-07-31T15:09:06.519697",
     "status": "completed"
    },
    "tags": []
   },
   "outputs": [],
   "source": [
    "df = pd.read_csv('titles.csv')"
   ]
  },
  {
   "cell_type": "code",
   "execution_count": 3,
   "id": "95bd24e0",
   "metadata": {},
   "outputs": [
    {
     "data": {
      "text/plain": [
       "Index(['id', 'title', 'type', 'description', 'release_year',\n",
       "       'age_certification', 'runtime', 'genres', 'production_countries',\n",
       "       'seasons', 'imdb_id', 'imdb_score', 'imdb_votes', 'tmdb_popularity',\n",
       "       'tmdb_score'],\n",
       "      dtype='object')"
      ]
     },
     "execution_count": 3,
     "metadata": {},
     "output_type": "execute_result"
    }
   ],
   "source": [
    "df.columns"
   ]
  },
  {
   "cell_type": "markdown",
   "id": "182de4ab",
   "metadata": {
    "papermill": {
     "duration": 0.014195,
     "end_time": "2022-07-31T15:09:06.661012",
     "exception": false,
     "start_time": "2022-07-31T15:09:06.646817",
     "status": "completed"
    },
    "tags": []
   },
   "source": [
    "# **Data Preprocessing**"
   ]
  },
  {
   "cell_type": "code",
   "execution_count": 4,
   "id": "785ed62a",
   "metadata": {
    "execution": {
     "iopub.execute_input": "2022-07-31T15:09:06.691864Z",
     "iopub.status.busy": "2022-07-31T15:09:06.691403Z",
     "iopub.status.idle": "2022-07-31T15:09:06.724839Z",
     "shell.execute_reply": "2022-07-31T15:09:06.723701Z"
    },
    "papermill": {
     "duration": 0.051885,
     "end_time": "2022-07-31T15:09:06.727414",
     "exception": false,
     "start_time": "2022-07-31T15:09:06.675529",
     "status": "completed"
    },
    "tags": []
   },
   "outputs": [
    {
     "data": {
      "text/html": [
       "<div>\n",
       "<style scoped>\n",
       "    .dataframe tbody tr th:only-of-type {\n",
       "        vertical-align: middle;\n",
       "    }\n",
       "\n",
       "    .dataframe tbody tr th {\n",
       "        vertical-align: top;\n",
       "    }\n",
       "\n",
       "    .dataframe thead th {\n",
       "        text-align: right;\n",
       "    }\n",
       "</style>\n",
       "<table border=\"1\" class=\"dataframe\">\n",
       "  <thead>\n",
       "    <tr style=\"text-align: right;\">\n",
       "      <th></th>\n",
       "      <th>id</th>\n",
       "      <th>title</th>\n",
       "      <th>type</th>\n",
       "      <th>description</th>\n",
       "      <th>release_year</th>\n",
       "      <th>age_certification</th>\n",
       "      <th>runtime</th>\n",
       "      <th>genres</th>\n",
       "      <th>production_countries</th>\n",
       "      <th>seasons</th>\n",
       "      <th>imdb_id</th>\n",
       "      <th>imdb_score</th>\n",
       "      <th>imdb_votes</th>\n",
       "      <th>tmdb_popularity</th>\n",
       "      <th>tmdb_score</th>\n",
       "    </tr>\n",
       "  </thead>\n",
       "  <tbody>\n",
       "    <tr>\n",
       "      <th>0</th>\n",
       "      <td>ts300399</td>\n",
       "      <td>Five Came Back: The Reference Films</td>\n",
       "      <td>SHOW</td>\n",
       "      <td>This collection includes 12 World War II-era p...</td>\n",
       "      <td>1945</td>\n",
       "      <td>TV-MA</td>\n",
       "      <td>51</td>\n",
       "      <td>['documentation']</td>\n",
       "      <td>['US']</td>\n",
       "      <td>1.0</td>\n",
       "      <td>NaN</td>\n",
       "      <td>NaN</td>\n",
       "      <td>NaN</td>\n",
       "      <td>0.600</td>\n",
       "      <td>NaN</td>\n",
       "    </tr>\n",
       "    <tr>\n",
       "      <th>1</th>\n",
       "      <td>tm84618</td>\n",
       "      <td>Taxi Driver</td>\n",
       "      <td>MOVIE</td>\n",
       "      <td>A mentally unstable Vietnam War veteran works ...</td>\n",
       "      <td>1976</td>\n",
       "      <td>R</td>\n",
       "      <td>114</td>\n",
       "      <td>['drama', 'crime']</td>\n",
       "      <td>['US']</td>\n",
       "      <td>NaN</td>\n",
       "      <td>tt0075314</td>\n",
       "      <td>8.2</td>\n",
       "      <td>808582.0</td>\n",
       "      <td>40.965</td>\n",
       "      <td>8.179</td>\n",
       "    </tr>\n",
       "    <tr>\n",
       "      <th>2</th>\n",
       "      <td>tm154986</td>\n",
       "      <td>Deliverance</td>\n",
       "      <td>MOVIE</td>\n",
       "      <td>Intent on seeing the Cahulawassee River before...</td>\n",
       "      <td>1972</td>\n",
       "      <td>R</td>\n",
       "      <td>109</td>\n",
       "      <td>['drama', 'action', 'thriller', 'european']</td>\n",
       "      <td>['US']</td>\n",
       "      <td>NaN</td>\n",
       "      <td>tt0068473</td>\n",
       "      <td>7.7</td>\n",
       "      <td>107673.0</td>\n",
       "      <td>10.010</td>\n",
       "      <td>7.300</td>\n",
       "    </tr>\n",
       "    <tr>\n",
       "      <th>3</th>\n",
       "      <td>tm127384</td>\n",
       "      <td>Monty Python and the Holy Grail</td>\n",
       "      <td>MOVIE</td>\n",
       "      <td>King Arthur, accompanied by his squire, recrui...</td>\n",
       "      <td>1975</td>\n",
       "      <td>PG</td>\n",
       "      <td>91</td>\n",
       "      <td>['fantasy', 'action', 'comedy']</td>\n",
       "      <td>['GB']</td>\n",
       "      <td>NaN</td>\n",
       "      <td>tt0071853</td>\n",
       "      <td>8.2</td>\n",
       "      <td>534486.0</td>\n",
       "      <td>15.461</td>\n",
       "      <td>7.811</td>\n",
       "    </tr>\n",
       "    <tr>\n",
       "      <th>4</th>\n",
       "      <td>tm120801</td>\n",
       "      <td>The Dirty Dozen</td>\n",
       "      <td>MOVIE</td>\n",
       "      <td>12 American military prisoners in World War II...</td>\n",
       "      <td>1967</td>\n",
       "      <td>NaN</td>\n",
       "      <td>150</td>\n",
       "      <td>['war', 'action']</td>\n",
       "      <td>['GB', 'US']</td>\n",
       "      <td>NaN</td>\n",
       "      <td>tt0061578</td>\n",
       "      <td>7.7</td>\n",
       "      <td>72662.0</td>\n",
       "      <td>20.398</td>\n",
       "      <td>7.600</td>\n",
       "    </tr>\n",
       "  </tbody>\n",
       "</table>\n",
       "</div>"
      ],
      "text/plain": [
       "         id                                title   type  \\\n",
       "0  ts300399  Five Came Back: The Reference Films   SHOW   \n",
       "1   tm84618                          Taxi Driver  MOVIE   \n",
       "2  tm154986                          Deliverance  MOVIE   \n",
       "3  tm127384      Monty Python and the Holy Grail  MOVIE   \n",
       "4  tm120801                      The Dirty Dozen  MOVIE   \n",
       "\n",
       "                                         description  release_year  \\\n",
       "0  This collection includes 12 World War II-era p...          1945   \n",
       "1  A mentally unstable Vietnam War veteran works ...          1976   \n",
       "2  Intent on seeing the Cahulawassee River before...          1972   \n",
       "3  King Arthur, accompanied by his squire, recrui...          1975   \n",
       "4  12 American military prisoners in World War II...          1967   \n",
       "\n",
       "  age_certification  runtime                                       genres  \\\n",
       "0             TV-MA       51                            ['documentation']   \n",
       "1                 R      114                           ['drama', 'crime']   \n",
       "2                 R      109  ['drama', 'action', 'thriller', 'european']   \n",
       "3                PG       91              ['fantasy', 'action', 'comedy']   \n",
       "4               NaN      150                            ['war', 'action']   \n",
       "\n",
       "  production_countries  seasons    imdb_id  imdb_score  imdb_votes  \\\n",
       "0               ['US']      1.0        NaN         NaN         NaN   \n",
       "1               ['US']      NaN  tt0075314         8.2    808582.0   \n",
       "2               ['US']      NaN  tt0068473         7.7    107673.0   \n",
       "3               ['GB']      NaN  tt0071853         8.2    534486.0   \n",
       "4         ['GB', 'US']      NaN  tt0061578         7.7     72662.0   \n",
       "\n",
       "   tmdb_popularity  tmdb_score  \n",
       "0            0.600         NaN  \n",
       "1           40.965       8.179  \n",
       "2           10.010       7.300  \n",
       "3           15.461       7.811  \n",
       "4           20.398       7.600  "
      ]
     },
     "execution_count": 4,
     "metadata": {},
     "output_type": "execute_result"
    }
   ],
   "source": [
    "df.head()"
   ]
  },
  {
   "cell_type": "code",
   "execution_count": 5,
   "id": "e00a5f96",
   "metadata": {
    "execution": {
     "iopub.execute_input": "2022-07-31T15:09:06.759743Z",
     "iopub.status.busy": "2022-07-31T15:09:06.759298Z",
     "iopub.status.idle": "2022-07-31T15:09:06.767368Z",
     "shell.execute_reply": "2022-07-31T15:09:06.766251Z"
    },
    "papermill": {
     "duration": 0.027144,
     "end_time": "2022-07-31T15:09:06.770075",
     "exception": false,
     "start_time": "2022-07-31T15:09:06.742931",
     "status": "completed"
    },
    "tags": []
   },
   "outputs": [
    {
     "data": {
      "text/plain": [
       "Index(['id', 'title', 'type', 'description', 'release_year',\n",
       "       'age_certification', 'runtime', 'genres', 'production_countries',\n",
       "       'seasons', 'imdb_id', 'imdb_score', 'imdb_votes', 'tmdb_popularity',\n",
       "       'tmdb_score'],\n",
       "      dtype='object')"
      ]
     },
     "execution_count": 5,
     "metadata": {},
     "output_type": "execute_result"
    }
   ],
   "source": [
    "df.columns"
   ]
  },
  {
   "cell_type": "code",
   "execution_count": 6,
   "id": "95ae93f3",
   "metadata": {
    "execution": {
     "iopub.execute_input": "2022-07-31T15:09:06.803009Z",
     "iopub.status.busy": "2022-07-31T15:09:06.801849Z",
     "iopub.status.idle": "2022-07-31T15:09:06.835260Z",
     "shell.execute_reply": "2022-07-31T15:09:06.833590Z"
    },
    "papermill": {
     "duration": 0.053583,
     "end_time": "2022-07-31T15:09:06.839009",
     "exception": false,
     "start_time": "2022-07-31T15:09:06.785426",
     "status": "completed"
    },
    "tags": []
   },
   "outputs": [
    {
     "name": "stdout",
     "output_type": "stream",
     "text": [
      "<class 'pandas.core.frame.DataFrame'>\n",
      "RangeIndex: 5850 entries, 0 to 5849\n",
      "Data columns (total 15 columns):\n",
      " #   Column                Non-Null Count  Dtype  \n",
      "---  ------                --------------  -----  \n",
      " 0   id                    5850 non-null   object \n",
      " 1   title                 5849 non-null   object \n",
      " 2   type                  5850 non-null   object \n",
      " 3   description           5832 non-null   object \n",
      " 4   release_year          5850 non-null   int64  \n",
      " 5   age_certification     3231 non-null   object \n",
      " 6   runtime               5850 non-null   int64  \n",
      " 7   genres                5850 non-null   object \n",
      " 8   production_countries  5850 non-null   object \n",
      " 9   seasons               2106 non-null   float64\n",
      " 10  imdb_id               5447 non-null   object \n",
      " 11  imdb_score            5368 non-null   float64\n",
      " 12  imdb_votes            5352 non-null   float64\n",
      " 13  tmdb_popularity       5759 non-null   float64\n",
      " 14  tmdb_score            5539 non-null   float64\n",
      "dtypes: float64(5), int64(2), object(8)\n",
      "memory usage: 685.7+ KB\n"
     ]
    }
   ],
   "source": [
    "df.info()"
   ]
  },
  {
   "cell_type": "code",
   "execution_count": 7,
   "id": "d08c4181",
   "metadata": {
    "execution": {
     "iopub.execute_input": "2022-07-31T15:09:06.872280Z",
     "iopub.status.busy": "2022-07-31T15:09:06.871381Z",
     "iopub.status.idle": "2022-07-31T15:09:06.913829Z",
     "shell.execute_reply": "2022-07-31T15:09:06.912631Z"
    },
    "papermill": {
     "duration": 0.061652,
     "end_time": "2022-07-31T15:09:06.916587",
     "exception": false,
     "start_time": "2022-07-31T15:09:06.854935",
     "status": "completed"
    },
    "tags": []
   },
   "outputs": [
    {
     "data": {
      "text/plain": [
       "count    5850.000000\n",
       "mean       76.888889\n",
       "std        39.002509\n",
       "min         0.000000\n",
       "25%        44.000000\n",
       "50%        83.000000\n",
       "75%       104.000000\n",
       "max       240.000000\n",
       "Name: runtime, dtype: float64"
      ]
     },
     "execution_count": 7,
     "metadata": {},
     "output_type": "execute_result"
    }
   ],
   "source": [
    "df['runtime'].describe()"
   ]
  },
  {
   "cell_type": "code",
   "execution_count": 8,
   "id": "dde97c33",
   "metadata": {
    "execution": {
     "iopub.execute_input": "2022-07-31T15:09:06.950209Z",
     "iopub.status.busy": "2022-07-31T15:09:06.949755Z",
     "iopub.status.idle": "2022-07-31T15:09:06.958481Z",
     "shell.execute_reply": "2022-07-31T15:09:06.957197Z"
    },
    "papermill": {
     "duration": 0.028347,
     "end_time": "2022-07-31T15:09:06.960939",
     "exception": false,
     "start_time": "2022-07-31T15:09:06.932592",
     "status": "completed"
    },
    "tags": []
   },
   "outputs": [],
   "source": [
    "def figure_size():\n",
    "    f = plt.figure()\n",
    "    f.set_figwidth(15)\n",
    "    f.set_figheight(10)\n",
    "    font = {'family' : 'normal','size'   : 13}\n",
    "    \n",
    "def repair_array_bound_categories(arr):\n",
    "    arr = ast.literal_eval(arr)\n",
    "    \n",
    "    if len(arr) == 0:\n",
    "        return np.nan\n",
    "    \n",
    "    elif len(arr) == 1:\n",
    "        return arr[0]\n",
    "    \n",
    "    else:\n",
    "        return random.choice(arr)"
   ]
  },
  {
   "cell_type": "code",
   "execution_count": 9,
   "id": "be6c8fa3",
   "metadata": {
    "execution": {
     "iopub.execute_input": "2022-07-31T15:09:06.994659Z",
     "iopub.status.busy": "2022-07-31T15:09:06.993653Z",
     "iopub.status.idle": "2022-07-31T15:09:07.159216Z",
     "shell.execute_reply": "2022-07-31T15:09:07.158022Z"
    },
    "papermill": {
     "duration": 0.185839,
     "end_time": "2022-07-31T15:09:07.162496",
     "exception": false,
     "start_time": "2022-07-31T15:09:06.976657",
     "status": "completed"
    },
    "tags": []
   },
   "outputs": [],
   "source": [
    "df[\"production_countries\"] = df[\"production_countries\"].apply(repair_array_bound_categories)\n",
    "df[\"genres\"] = df[\"genres\"].apply(repair_array_bound_categories)"
   ]
  },
  {
   "cell_type": "code",
   "execution_count": 10,
   "id": "45dd4e0c",
   "metadata": {},
   "outputs": [
    {
     "data": {
      "text/plain": [
       "0        US\n",
       "1        US\n",
       "2        US\n",
       "3        GB\n",
       "4        US\n",
       "       ... \n",
       "5845     NG\n",
       "5846    NaN\n",
       "5847     CO\n",
       "5848     US\n",
       "5849    NaN\n",
       "Name: production_countries, Length: 5850, dtype: object"
      ]
     },
     "execution_count": 10,
     "metadata": {},
     "output_type": "execute_result"
    }
   ],
   "source": [
    "df[\"production_countries\"]"
   ]
  },
  {
   "cell_type": "code",
   "execution_count": 11,
   "id": "0f7d58de",
   "metadata": {
    "execution": {
     "iopub.execute_input": "2022-07-31T15:09:07.195588Z",
     "iopub.status.busy": "2022-07-31T15:09:07.195133Z",
     "iopub.status.idle": "2022-07-31T15:09:07.212311Z",
     "shell.execute_reply": "2022-07-31T15:09:07.210931Z"
    },
    "papermill": {
     "duration": 0.037568,
     "end_time": "2022-07-31T15:09:07.215590",
     "exception": false,
     "start_time": "2022-07-31T15:09:07.178022",
     "status": "completed"
    },
    "tags": []
   },
   "outputs": [
    {
     "data": {
      "text/plain": [
       "id                         0\n",
       "title                      1\n",
       "type                       0\n",
       "description               18\n",
       "release_year               0\n",
       "age_certification       2619\n",
       "runtime                    0\n",
       "genres                    59\n",
       "production_countries     229\n",
       "seasons                 3744\n",
       "imdb_id                  403\n",
       "imdb_score               482\n",
       "imdb_votes               498\n",
       "tmdb_popularity           91\n",
       "tmdb_score               311\n",
       "dtype: int64"
      ]
     },
     "execution_count": 11,
     "metadata": {},
     "output_type": "execute_result"
    }
   ],
   "source": [
    "df.isnull().sum()"
   ]
  },
  {
   "cell_type": "markdown",
   "id": "3c00b74a",
   "metadata": {
    "papermill": {
     "duration": 0.015556,
     "end_time": "2022-07-31T15:09:07.247467",
     "exception": false,
     "start_time": "2022-07-31T15:09:07.231911",
     "status": "completed"
    },
    "tags": []
   },
   "source": [
    "# **Which show is more common in this Netflix dataset, movie or TV show?**"
   ]
  },
  {
   "cell_type": "code",
   "execution_count": 12,
   "id": "a98aff91",
   "metadata": {
    "execution": {
     "iopub.execute_input": "2022-07-31T15:09:07.282754Z",
     "iopub.status.busy": "2022-07-31T15:09:07.282343Z",
     "iopub.status.idle": "2022-07-31T15:09:07.297907Z",
     "shell.execute_reply": "2022-07-31T15:09:07.296649Z"
    },
    "papermill": {
     "duration": 0.035745,
     "end_time": "2022-07-31T15:09:07.300487",
     "exception": false,
     "start_time": "2022-07-31T15:09:07.264742",
     "status": "completed"
    },
    "tags": []
   },
   "outputs": [
    {
     "data": {
      "text/html": [
       "<div>\n",
       "<style scoped>\n",
       "    .dataframe tbody tr th:only-of-type {\n",
       "        vertical-align: middle;\n",
       "    }\n",
       "\n",
       "    .dataframe tbody tr th {\n",
       "        vertical-align: top;\n",
       "    }\n",
       "\n",
       "    .dataframe thead th {\n",
       "        text-align: right;\n",
       "    }\n",
       "</style>\n",
       "<table border=\"1\" class=\"dataframe\">\n",
       "  <thead>\n",
       "    <tr style=\"text-align: right;\">\n",
       "      <th></th>\n",
       "      <th>type</th>\n",
       "      <th>counts</th>\n",
       "    </tr>\n",
       "  </thead>\n",
       "  <tbody>\n",
       "    <tr>\n",
       "      <th>0</th>\n",
       "      <td>MOVIE</td>\n",
       "      <td>3744</td>\n",
       "    </tr>\n",
       "    <tr>\n",
       "      <th>1</th>\n",
       "      <td>SHOW</td>\n",
       "      <td>2106</td>\n",
       "    </tr>\n",
       "  </tbody>\n",
       "</table>\n",
       "</div>"
      ],
      "text/plain": [
       "    type  counts\n",
       "0  MOVIE    3744\n",
       "1   SHOW    2106"
      ]
     },
     "execution_count": 12,
     "metadata": {},
     "output_type": "execute_result"
    }
   ],
   "source": [
    "types = df.groupby('type').size().reset_index().rename(columns = {0:'counts'})\n",
    "types"
   ]
  },
  {
   "cell_type": "code",
   "execution_count": 13,
   "id": "19f7b8c6",
   "metadata": {
    "execution": {
     "iopub.execute_input": "2022-07-31T15:09:07.335020Z",
     "iopub.status.busy": "2022-07-31T15:09:07.333831Z",
     "iopub.status.idle": "2022-07-31T15:09:07.917867Z",
     "shell.execute_reply": "2022-07-31T15:09:07.916542Z"
    },
    "papermill": {
     "duration": 0.604385,
     "end_time": "2022-07-31T15:09:07.920972",
     "exception": false,
     "start_time": "2022-07-31T15:09:07.316587",
     "status": "completed"
    },
    "tags": []
   },
   "outputs": [
    {
     "data": {
      "text/plain": [
       "<Figure size 1080x720 with 0 Axes>"
      ]
     },
     "metadata": {},
     "output_type": "display_data"
    },
    {
     "data": {
      "image/png": "[encoded data removed]",
      "text/plain": [
       "<Figure size 576x432 with 2 Axes>"
      ]
     },
     "metadata": {
      "needs_background": "light"
     },
     "output_type": "display_data"
    }
   ],
   "source": [
    "figure_size()\n",
    "langs= types.type\n",
    "fig, axes = plt.subplots(1,2, figsize=(8,6))\n",
    "plt.tight_layout(pad=2)\n",
    "sns.set_style(\"darkgrid\")\n",
    "a1=sns.barplot(x = types.type,y = types.counts,ax=axes[0]);\n",
    "a1.set(xlabel='Types', ylabel='Counts')\n",
    "plt.pie(types.counts,autopct='%1.2f%%', labels = langs, radius=1.5, labeldistance=1.1 , rotatelabels=True)\n",
    "plt.legend()\n",
    "plt.show()"
   ]
  },
  {
   "cell_type": "markdown",
   "id": "53a6598f",
   "metadata": {
    "papermill": {
     "duration": 0.017079,
     "end_time": "2022-07-31T15:09:07.955230",
     "exception": false,
     "start_time": "2022-07-31T15:09:07.938151",
     "status": "completed"
    },
    "tags": []
   },
   "source": [
    "### **Observation**\n",
    "\n",
    "It has been Observed That Netflix has Movies(64.74) more than Shows(32.26)."
   ]
  },
  {
   "cell_type": "markdown",
   "id": "27f49f2a",
   "metadata": {
    "papermill": {
     "duration": 0.017597,
     "end_time": "2022-07-31T15:09:08.036448",
     "exception": false,
     "start_time": "2022-07-31T15:09:08.018851",
     "status": "completed"
    },
    "tags": []
   },
   "source": [
    "# **How are various Age Certifications are distributed in the data?**"
   ]
  },
  {
   "cell_type": "code",
   "execution_count": 14,
   "id": "3ae78891",
   "metadata": {
    "execution": {
     "iopub.execute_input": "2022-07-31T15:09:08.073113Z",
     "iopub.status.busy": "2022-07-31T15:09:08.072708Z",
     "iopub.status.idle": "2022-07-31T15:09:08.508137Z",
     "shell.execute_reply": "2022-07-31T15:09:08.506944Z"
    },
    "papermill": {
     "duration": 0.456898,
     "end_time": "2022-07-31T15:09:08.510810",
     "exception": false,
     "start_time": "2022-07-31T15:09:08.053912",
     "status": "completed"
    },
    "tags": []
   },
   "outputs": [
    {
     "data": {
      "text/plain": [
       "<Figure size 1080x720 with 0 Axes>"
      ]
     },
     "metadata": {},
     "output_type": "display_data"
    },
    {
     "data": {
      "image/png": "[encoded data removed]",
      "text/plain": [
       "<Figure size 360x360 with 1 Axes>"
      ]
     },
     "metadata": {},
     "output_type": "display_data"
    }
   ],
   "source": [
    "figure_size()\n",
    "sns.catplot(x='age_certification', kind=\"count\", data=df)\n",
    "plt.xticks(rotation=45)\n",
    "plt.show()"
   ]
  },
  {
   "cell_type": "markdown",
   "id": "20b95cb1",
   "metadata": {
    "papermill": {
     "duration": 0.017038,
     "end_time": "2022-07-31T15:09:08.545867",
     "exception": false,
     "start_time": "2022-07-31T15:09:08.528829",
     "status": "completed"
    },
    "tags": []
   },
   "source": [
    "### **Observation**\n",
    "* TV_MA: asigned to be viewed by adults and therefore may be unsuitable for children under 17"
   ]
  },
  {
   "cell_type": "markdown",
   "id": "505dc1c7",
   "metadata": {
    "papermill": {
     "duration": 0.017083,
     "end_time": "2022-07-31T15:09:08.580295",
     "exception": false,
     "start_time": "2022-07-31T15:09:08.563212",
     "status": "completed"
    },
    "tags": []
   },
   "source": [
    "# **which Genre is most/least occuring on Netflix?**"
   ]
  },
  {
   "cell_type": "code",
   "execution_count": 15,
   "id": "2bd34f6d",
   "metadata": {
    "execution": {
     "iopub.execute_input": "2022-07-31T15:09:08.618866Z",
     "iopub.status.busy": "2022-07-31T15:09:08.618022Z",
     "iopub.status.idle": "2022-07-31T15:09:09.170394Z",
     "shell.execute_reply": "2022-07-31T15:09:09.169175Z"
    },
    "papermill": {
     "duration": 0.5739,
     "end_time": "2022-07-31T15:09:09.172992",
     "exception": false,
     "start_time": "2022-07-31T15:09:08.599092",
     "status": "completed"
    },
    "tags": []
   },
   "outputs": [
    {
     "data": {
      "text/plain": [
       "<Figure size 1080x720 with 0 Axes>"
      ]
     },
     "metadata": {},
     "output_type": "display_data"
    },
    {
     "data": {
      "image/png": "[encoded data removed]",
      "text/plain": [
       "<Figure size 360x360 with 1 Axes>"
      ]
     },
     "metadata": {},
     "output_type": "display_data"
    }
   ],
   "source": [
    "figure_size()\n",
    "sns.catplot(x='genres', kind=\"count\", data=df, order=df['genres'].value_counts().index)\n",
    "plt.xticks(rotation=90)\n",
    "plt.show()"
   ]
  },
  {
   "cell_type": "markdown",
   "id": "de37b460",
   "metadata": {
    "papermill": {
     "duration": 0.017467,
     "end_time": "2022-07-31T15:09:09.208479",
     "exception": false,
     "start_time": "2022-07-31T15:09:09.191012",
     "status": "completed"
    },
    "tags": []
   },
   "source": [
    "### **Observation**\n",
    "Drama is the most popular and Western is the least popular Genre ."
   ]
  },
  {
   "cell_type": "markdown",
   "id": "4f1bb09a",
   "metadata": {
    "papermill": {
     "duration": 0.018081,
     "end_time": "2022-07-31T15:09:09.244427",
     "exception": false,
     "start_time": "2022-07-31T15:09:09.226346",
     "status": "completed"
    },
    "tags": []
   },
   "source": [
    "# **Top 10 countries that has produced most Movies/shows on Netflix?**"
   ]
  },
  {
   "cell_type": "code",
   "execution_count": 16,
   "id": "63ebb223",
   "metadata": {
    "execution": {
     "iopub.execute_input": "2022-07-31T15:09:09.282929Z",
     "iopub.status.busy": "2022-07-31T15:09:09.282503Z",
     "iopub.status.idle": "2022-07-31T15:09:09.289594Z",
     "shell.execute_reply": "2022-07-31T15:09:09.288727Z"
    },
    "papermill": {
     "duration": 0.029458,
     "end_time": "2022-07-31T15:09:09.291850",
     "exception": false,
     "start_time": "2022-07-31T15:09:09.262392",
     "status": "completed"
    },
    "tags": []
   },
   "outputs": [
    {
     "data": {
      "text/plain": [
       "Index(['id', 'title', 'type', 'description', 'release_year',\n",
       "       'age_certification', 'runtime', 'genres', 'production_countries',\n",
       "       'seasons', 'imdb_id', 'imdb_score', 'imdb_votes', 'tmdb_popularity',\n",
       "       'tmdb_score'],\n",
       "      dtype='object')"
      ]
     },
     "execution_count": 16,
     "metadata": {},
     "output_type": "execute_result"
    }
   ],
   "source": [
    "df.columns"
   ]
  },
  {
   "cell_type": "code",
   "execution_count": 17,
   "id": "28d93d7c",
   "metadata": {
    "execution": {
     "iopub.execute_input": "2022-07-31T15:09:09.330447Z",
     "iopub.status.busy": "2022-07-31T15:09:09.329662Z",
     "iopub.status.idle": "2022-07-31T15:09:09.349489Z",
     "shell.execute_reply": "2022-07-31T15:09:09.348533Z"
    },
    "papermill": {
     "duration": 0.042068,
     "end_time": "2022-07-31T15:09:09.351964",
     "exception": false,
     "start_time": "2022-07-31T15:09:09.309896",
     "status": "completed"
    },
    "tags": []
   },
   "outputs": [
    {
     "data": {
      "text/html": [
       "<div>\n",
       "<style scoped>\n",
       "    .dataframe tbody tr th:only-of-type {\n",
       "        vertical-align: middle;\n",
       "    }\n",
       "\n",
       "    .dataframe tbody tr th {\n",
       "        vertical-align: top;\n",
       "    }\n",
       "\n",
       "    .dataframe thead th {\n",
       "        text-align: right;\n",
       "    }\n",
       "</style>\n",
       "<table border=\"1\" class=\"dataframe\">\n",
       "  <thead>\n",
       "    <tr style=\"text-align: right;\">\n",
       "      <th></th>\n",
       "      <th>production_countries</th>\n",
       "      <th>counts</th>\n",
       "    </tr>\n",
       "  </thead>\n",
       "  <tbody>\n",
       "    <tr>\n",
       "      <th>0</th>\n",
       "      <td>US</td>\n",
       "      <td>2108</td>\n",
       "    </tr>\n",
       "    <tr>\n",
       "      <th>1</th>\n",
       "      <td>IN</td>\n",
       "      <td>603</td>\n",
       "    </tr>\n",
       "    <tr>\n",
       "      <th>2</th>\n",
       "      <td>GB</td>\n",
       "      <td>301</td>\n",
       "    </tr>\n",
       "    <tr>\n",
       "      <th>3</th>\n",
       "      <td>JP</td>\n",
       "      <td>276</td>\n",
       "    </tr>\n",
       "    <tr>\n",
       "      <th>4</th>\n",
       "      <td>KR</td>\n",
       "      <td>225</td>\n",
       "    </tr>\n",
       "    <tr>\n",
       "      <th>...</th>\n",
       "      <td>...</td>\n",
       "      <td>...</td>\n",
       "    </tr>\n",
       "    <tr>\n",
       "      <th>91</th>\n",
       "      <td>LT</td>\n",
       "      <td>1</td>\n",
       "    </tr>\n",
       "    <tr>\n",
       "      <th>92</th>\n",
       "      <td>Lebanon</td>\n",
       "      <td>1</td>\n",
       "    </tr>\n",
       "    <tr>\n",
       "      <th>93</th>\n",
       "      <td>MU</td>\n",
       "      <td>1</td>\n",
       "    </tr>\n",
       "    <tr>\n",
       "      <th>94</th>\n",
       "      <td>NA</td>\n",
       "      <td>1</td>\n",
       "    </tr>\n",
       "    <tr>\n",
       "      <th>95</th>\n",
       "      <td>ZW</td>\n",
       "      <td>1</td>\n",
       "    </tr>\n",
       "  </tbody>\n",
       "</table>\n",
       "<p>96 rows × 2 columns</p>\n",
       "</div>"
      ],
      "text/plain": [
       "   production_countries  counts\n",
       "0                    US    2108\n",
       "1                    IN     603\n",
       "2                    GB     301\n",
       "3                    JP     276\n",
       "4                    KR     225\n",
       "..                  ...     ...\n",
       "91                   LT       1\n",
       "92              Lebanon       1\n",
       "93                   MU       1\n",
       "94                   NA       1\n",
       "95                   ZW       1\n",
       "\n",
       "[96 rows x 2 columns]"
      ]
     },
     "execution_count": 17,
     "metadata": {},
     "output_type": "execute_result"
    }
   ],
   "source": [
    "countries = df.groupby('production_countries').size().reset_index().sort_values(by = 0,ascending = 0).reset_index().drop('index',axis = 1).rename(columns = {0:'counts'})\n",
    "countries"
   ]
  },
  {
   "cell_type": "code",
   "execution_count": 18,
   "id": "14e1db02",
   "metadata": {},
   "outputs": [
    {
     "data": {
      "text/html": [
       "<div>\n",
       "<style scoped>\n",
       "    .dataframe tbody tr th:only-of-type {\n",
       "        vertical-align: middle;\n",
       "    }\n",
       "\n",
       "    .dataframe tbody tr th {\n",
       "        vertical-align: top;\n",
       "    }\n",
       "\n",
       "    .dataframe thead th {\n",
       "        text-align: right;\n",
       "    }\n",
       "</style>\n",
       "<table border=\"1\" class=\"dataframe\">\n",
       "  <thead>\n",
       "    <tr style=\"text-align: right;\">\n",
       "      <th></th>\n",
       "      <th>production_countries</th>\n",
       "      <th>counts</th>\n",
       "    </tr>\n",
       "  </thead>\n",
       "  <tbody>\n",
       "    <tr>\n",
       "      <th>0</th>\n",
       "      <td>US</td>\n",
       "      <td>2108</td>\n",
       "    </tr>\n",
       "    <tr>\n",
       "      <th>1</th>\n",
       "      <td>IN</td>\n",
       "      <td>603</td>\n",
       "    </tr>\n",
       "    <tr>\n",
       "      <th>2</th>\n",
       "      <td>GB</td>\n",
       "      <td>301</td>\n",
       "    </tr>\n",
       "    <tr>\n",
       "      <th>3</th>\n",
       "      <td>JP</td>\n",
       "      <td>276</td>\n",
       "    </tr>\n",
       "    <tr>\n",
       "      <th>4</th>\n",
       "      <td>KR</td>\n",
       "      <td>225</td>\n",
       "    </tr>\n",
       "    <tr>\n",
       "      <th>...</th>\n",
       "      <td>...</td>\n",
       "      <td>...</td>\n",
       "    </tr>\n",
       "    <tr>\n",
       "      <th>91</th>\n",
       "      <td>LT</td>\n",
       "      <td>1</td>\n",
       "    </tr>\n",
       "    <tr>\n",
       "      <th>92</th>\n",
       "      <td>Lebanon</td>\n",
       "      <td>1</td>\n",
       "    </tr>\n",
       "    <tr>\n",
       "      <th>93</th>\n",
       "      <td>MU</td>\n",
       "      <td>1</td>\n",
       "    </tr>\n",
       "    <tr>\n",
       "      <th>94</th>\n",
       "      <td>NA</td>\n",
       "      <td>1</td>\n",
       "    </tr>\n",
       "    <tr>\n",
       "      <th>95</th>\n",
       "      <td>ZW</td>\n",
       "      <td>1</td>\n",
       "    </tr>\n",
       "  </tbody>\n",
       "</table>\n",
       "<p>96 rows × 2 columns</p>\n",
       "</div>"
      ],
      "text/plain": [
       "   production_countries  counts\n",
       "0                    US    2108\n",
       "1                    IN     603\n",
       "2                    GB     301\n",
       "3                    JP     276\n",
       "4                    KR     225\n",
       "..                  ...     ...\n",
       "91                   LT       1\n",
       "92              Lebanon       1\n",
       "93                   MU       1\n",
       "94                   NA       1\n",
       "95                   ZW       1\n",
       "\n",
       "[96 rows x 2 columns]"
      ]
     },
     "execution_count": 18,
     "metadata": {},
     "output_type": "execute_result"
    }
   ],
   "source": [
    "countries = df[['production_countries', 'type']].groupby('production_countries').size().sort_values(ascending=False).reset_index()\n",
    "countries.rename(columns = {0:'counts'}, inplace=True)\n",
    "countries"
   ]
  },
  {
   "cell_type": "code",
   "execution_count": 19,
   "id": "c9c77b8b",
   "metadata": {
    "execution": {
     "iopub.execute_input": "2022-07-31T15:09:09.390802Z",
     "iopub.status.busy": "2022-07-31T15:09:09.390383Z",
     "iopub.status.idle": "2022-07-31T15:09:09.707063Z",
     "shell.execute_reply": "2022-07-31T15:09:09.705869Z"
    },
    "papermill": {
     "duration": 0.339505,
     "end_time": "2022-07-31T15:09:09.709979",
     "exception": false,
     "start_time": "2022-07-31T15:09:09.370474",
     "status": "completed"
    },
    "tags": []
   },
   "outputs": [
    {
     "data": {
      "image/png": "[encoded data removed]",
      "text/plain": [
       "<Figure size 1080x720 with 1 Axes>"
      ]
     },
     "metadata": {},
     "output_type": "display_data"
    }
   ],
   "source": [
    "figure_size()\n",
    "sns.barplot(x = countries.production_countries[:10],y = countries.counts[:10]);\n",
    "plt.show()"
   ]
  },
  {
   "cell_type": "markdown",
   "id": "eea90d62",
   "metadata": {
    "papermill": {
     "duration": 0.018917,
     "end_time": "2022-07-31T15:09:10.934421",
     "exception": false,
     "start_time": "2022-07-31T15:09:10.915504",
     "status": "completed"
    },
    "tags": []
   },
   "source": [
    "# **Observation**\n",
    "\n",
    "As we can observe US is the Most Popular Production Countries."
   ]
  },
  {
   "cell_type": "markdown",
   "id": "0a5e9777",
   "metadata": {
    "papermill": {
     "duration": 0.019274,
     "end_time": "2022-07-31T15:09:10.972988",
     "exception": false,
     "start_time": "2022-07-31T15:09:10.953714",
     "status": "completed"
    },
    "tags": []
   },
   "source": [
    "# **Year-wise analysis of Netflix content released**"
   ]
  },
  {
   "cell_type": "code",
   "execution_count": 20,
   "id": "2e543950",
   "metadata": {
    "execution": {
     "iopub.execute_input": "2022-07-31T15:09:11.156923Z",
     "iopub.status.busy": "2022-07-31T15:09:11.156520Z",
     "iopub.status.idle": "2022-07-31T15:09:11.174608Z",
     "shell.execute_reply": "2022-07-31T15:09:11.172950Z"
    },
    "papermill": {
     "duration": 0.043272,
     "end_time": "2022-07-31T15:09:11.177866",
     "exception": false,
     "start_time": "2022-07-31T15:09:11.134594",
     "status": "completed"
    },
    "tags": []
   },
   "outputs": [
    {
     "data": {
      "text/html": [
       "<div>\n",
       "<style scoped>\n",
       "    .dataframe tbody tr th:only-of-type {\n",
       "        vertical-align: middle;\n",
       "    }\n",
       "\n",
       "    .dataframe tbody tr th {\n",
       "        vertical-align: top;\n",
       "    }\n",
       "\n",
       "    .dataframe thead th {\n",
       "        text-align: right;\n",
       "    }\n",
       "</style>\n",
       "<table border=\"1\" class=\"dataframe\">\n",
       "  <thead>\n",
       "    <tr style=\"text-align: right;\">\n",
       "      <th></th>\n",
       "      <th>release_year</th>\n",
       "      <th>counts</th>\n",
       "    </tr>\n",
       "  </thead>\n",
       "  <tbody>\n",
       "    <tr>\n",
       "      <th>0</th>\n",
       "      <td>2019</td>\n",
       "      <td>836</td>\n",
       "    </tr>\n",
       "    <tr>\n",
       "      <th>1</th>\n",
       "      <td>2020</td>\n",
       "      <td>814</td>\n",
       "    </tr>\n",
       "    <tr>\n",
       "      <th>2</th>\n",
       "      <td>2021</td>\n",
       "      <td>787</td>\n",
       "    </tr>\n",
       "    <tr>\n",
       "      <th>3</th>\n",
       "      <td>2018</td>\n",
       "      <td>773</td>\n",
       "    </tr>\n",
       "    <tr>\n",
       "      <th>4</th>\n",
       "      <td>2017</td>\n",
       "      <td>563</td>\n",
       "    </tr>\n",
       "    <tr>\n",
       "      <th>...</th>\n",
       "      <td>...</td>\n",
       "      <td>...</td>\n",
       "    </tr>\n",
       "    <tr>\n",
       "      <th>58</th>\n",
       "      <td>1960</td>\n",
       "      <td>1</td>\n",
       "    </tr>\n",
       "    <tr>\n",
       "      <th>59</th>\n",
       "      <td>1974</td>\n",
       "      <td>1</td>\n",
       "    </tr>\n",
       "    <tr>\n",
       "      <th>60</th>\n",
       "      <td>1959</td>\n",
       "      <td>1</td>\n",
       "    </tr>\n",
       "    <tr>\n",
       "      <th>61</th>\n",
       "      <td>1978</td>\n",
       "      <td>1</td>\n",
       "    </tr>\n",
       "    <tr>\n",
       "      <th>62</th>\n",
       "      <td>1945</td>\n",
       "      <td>1</td>\n",
       "    </tr>\n",
       "  </tbody>\n",
       "</table>\n",
       "<p>63 rows × 2 columns</p>\n",
       "</div>"
      ],
      "text/plain": [
       "    release_year  counts\n",
       "0           2019     836\n",
       "1           2020     814\n",
       "2           2021     787\n",
       "3           2018     773\n",
       "4           2017     563\n",
       "..           ...     ...\n",
       "58          1960       1\n",
       "59          1974       1\n",
       "60          1959       1\n",
       "61          1978       1\n",
       "62          1945       1\n",
       "\n",
       "[63 rows x 2 columns]"
      ]
     },
     "execution_count": 20,
     "metadata": {},
     "output_type": "execute_result"
    }
   ],
   "source": [
    "release_year_count= df.release_year.value_counts().reset_index()\n",
    "release_year_count.rename(columns = {'index':'release_year','release_year': 'counts' }, inplace=True)\n",
    "release_year_count = pd.DataFrame(release_year_count)\n",
    "release_year_count"
   ]
  },
  {
   "cell_type": "code",
   "execution_count": 21,
   "id": "dca23a32",
   "metadata": {
    "execution": {
     "iopub.execute_input": "2022-07-31T15:09:11.224107Z",
     "iopub.status.busy": "2022-07-31T15:09:11.223258Z",
     "iopub.status.idle": "2022-07-31T15:09:11.586469Z",
     "shell.execute_reply": "2022-07-31T15:09:11.585308Z"
    },
    "papermill": {
     "duration": 0.389889,
     "end_time": "2022-07-31T15:09:11.589007",
     "exception": false,
     "start_time": "2022-07-31T15:09:11.199118",
     "status": "completed"
    },
    "tags": []
   },
   "outputs": [
    {
     "data": {
      "image/png": "[encoded data removed]",
      "text/plain": [
       "<Figure size 1080x576 with 1 Axes>"
      ]
     },
     "metadata": {},
     "output_type": "display_data"
    }
   ],
   "source": [
    "plt.figure(figsize=(15, 8))\n",
    "sns.lineplot(x='release_year', y='counts', data= release_year_count)\n",
    "plt.title('Netflix´s shows release date (1940-2021)')\n",
    "plt.xlabel('Year released')\n",
    "plt.ylabel('Total Shows on Netflix')\n",
    "plt.xticks(release_year_count['release_year'])\n",
    "plt.xticks(rotation=90)\n",
    "plt.show()"
   ]
  },
  {
   "cell_type": "markdown",
   "id": "d8b80cb4",
   "metadata": {
    "papermill": {
     "duration": 0.020391,
     "end_time": "2022-07-31T15:09:11.631076",
     "exception": false,
     "start_time": "2022-07-31T15:09:11.610685",
     "status": "completed"
    },
    "tags": []
   },
   "source": [
    "### **Observation**\n",
    "\n",
    "It has been Observed That most of the Movies are released in 2019.\n",
    "\n",
    "It has been Observed That most of the Movies are released in period of  2010-2019."
   ]
  },
  {
   "cell_type": "markdown",
   "id": "851c9f03",
   "metadata": {
    "papermill": {
     "duration": 0.020383,
     "end_time": "2022-07-31T15:09:11.672125",
     "exception": false,
     "start_time": "2022-07-31T15:09:11.651742",
     "status": "completed"
    },
    "tags": []
   },
   "source": [
    "# **Bi-Variate Analysis**"
   ]
  },
  {
   "cell_type": "markdown",
   "id": "f2ccf966",
   "metadata": {
    "papermill": {
     "duration": 0.020457,
     "end_time": "2022-07-31T15:09:11.713403",
     "exception": false,
     "start_time": "2022-07-31T15:09:11.692946",
     "status": "completed"
    },
    "tags": []
   },
   "source": [
    "# **What is break up of Genre for each Age Certification?**"
   ]
  },
  {
   "cell_type": "code",
   "execution_count": 22,
   "id": "ad0b6438",
   "metadata": {
    "execution": {
     "iopub.execute_input": "2022-07-31T15:09:11.758087Z",
     "iopub.status.busy": "2022-07-31T15:09:11.757647Z",
     "iopub.status.idle": "2022-07-31T15:09:13.025033Z",
     "shell.execute_reply": "2022-07-31T15:09:13.024072Z"
    },
    "papermill": {
     "duration": 1.292702,
     "end_time": "2022-07-31T15:09:13.027322",
     "exception": false,
     "start_time": "2022-07-31T15:09:11.734620",
     "status": "completed"
    },
    "tags": []
   },
   "outputs": [
    {
     "data": {
      "text/plain": [
       "<AxesSubplot:xlabel='age_certification', ylabel='count'>"
      ]
     },
     "execution_count": 22,
     "metadata": {},
     "output_type": "execute_result"
    },
    {
     "data": {
      "image/png": "[encoded data removed]",
      "text/plain": [
       "<Figure size 2400x1200 with 1 Axes>"
      ]
     },
     "metadata": {},
     "output_type": "display_data"
    }
   ],
   "source": [
    "plt.figure(figsize=(24, 12), dpi=100)\n",
    "sns.countplot(data=df, x=\"age_certification\", hue=\"genres\",palette = 'magma')"
   ]
  },
  {
   "cell_type": "markdown",
   "id": "353d2109",
   "metadata": {
    "papermill": {
     "duration": 0.023089,
     "end_time": "2022-07-31T15:09:13.072547",
     "exception": false,
     "start_time": "2022-07-31T15:09:13.049458",
     "status": "completed"
    },
    "tags": []
   },
   "source": [
    "# **which genres have the best average IMDB Ratings?**"
   ]
  },
  {
   "cell_type": "code",
   "execution_count": 23,
   "id": "1a697f1d",
   "metadata": {
    "execution": {
     "iopub.execute_input": "2022-07-31T15:09:13.119654Z",
     "iopub.status.busy": "2022-07-31T15:09:13.118825Z",
     "iopub.status.idle": "2022-07-31T15:09:13.137178Z",
     "shell.execute_reply": "2022-07-31T15:09:13.136230Z"
    },
    "papermill": {
     "duration": 0.044779,
     "end_time": "2022-07-31T15:09:13.139518",
     "exception": false,
     "start_time": "2022-07-31T15:09:13.094739",
     "status": "completed"
    },
    "tags": []
   },
   "outputs": [
    {
     "data": {
      "text/html": [
       "<div>\n",
       "<style scoped>\n",
       "    .dataframe tbody tr th:only-of-type {\n",
       "        vertical-align: middle;\n",
       "    }\n",
       "\n",
       "    .dataframe tbody tr th {\n",
       "        vertical-align: top;\n",
       "    }\n",
       "\n",
       "    .dataframe thead th {\n",
       "        text-align: right;\n",
       "    }\n",
       "</style>\n",
       "<table border=\"1\" class=\"dataframe\">\n",
       "  <thead>\n",
       "    <tr style=\"text-align: right;\">\n",
       "      <th></th>\n",
       "      <th>genres</th>\n",
       "      <th>imdb_score</th>\n",
       "    </tr>\n",
       "  </thead>\n",
       "  <tbody>\n",
       "    <tr>\n",
       "      <th>10</th>\n",
       "      <td>horror</td>\n",
       "      <td>5.971296</td>\n",
       "    </tr>\n",
       "    <tr>\n",
       "      <th>16</th>\n",
       "      <td>thriller</td>\n",
       "      <td>6.211559</td>\n",
       "    </tr>\n",
       "    <tr>\n",
       "      <th>7</th>\n",
       "      <td>family</td>\n",
       "      <td>6.249718</td>\n",
       "    </tr>\n",
       "    <tr>\n",
       "      <th>18</th>\n",
       "      <td>western</td>\n",
       "      <td>6.266667</td>\n",
       "    </tr>\n",
       "    <tr>\n",
       "      <th>2</th>\n",
       "      <td>comedy</td>\n",
       "      <td>6.305104</td>\n",
       "    </tr>\n",
       "  </tbody>\n",
       "</table>\n",
       "</div>"
      ],
      "text/plain": [
       "      genres  imdb_score\n",
       "10    horror    5.971296\n",
       "16  thriller    6.211559\n",
       "7     family    6.249718\n",
       "18   western    6.266667\n",
       "2     comedy    6.305104"
      ]
     },
     "execution_count": 23,
     "metadata": {},
     "output_type": "execute_result"
    }
   ],
   "source": [
    "b = df.groupby('genres')[['imdb_score']].mean().reset_index().sort_values(by='imdb_score')\n",
    "b.head()"
   ]
  },
  {
   "cell_type": "code",
   "execution_count": 24,
   "id": "8cf5d85f",
   "metadata": {
    "execution": {
     "iopub.execute_input": "2022-07-31T15:09:13.186245Z",
     "iopub.status.busy": "2022-07-31T15:09:13.185496Z",
     "iopub.status.idle": "2022-07-31T15:09:13.612321Z",
     "shell.execute_reply": "2022-07-31T15:09:13.610924Z"
    },
    "papermill": {
     "duration": 0.453331,
     "end_time": "2022-07-31T15:09:13.615049",
     "exception": false,
     "start_time": "2022-07-31T15:09:13.161718",
     "status": "completed"
    },
    "scrolled": true,
    "tags": []
   },
   "outputs": [
    {
     "data": {
      "image/png": "[encoded data removed]",
      "text/plain": [
       "<Figure size 1080x720 with 1 Axes>"
      ]
     },
     "metadata": {},
     "output_type": "display_data"
    }
   ],
   "source": [
    "figure_size()\n",
    "sns.barplot(x='genres', y='imdb_score', data=b,palette = 'magma')\n",
    "plt.xticks(rotation=45)\n",
    "plt.show()"
   ]
  },
  {
   "cell_type": "markdown",
   "id": "b3b5a5ac",
   "metadata": {},
   "source": [
    "# **which genres have the best average TMDB Ratings?**"
   ]
  },
  {
   "cell_type": "code",
   "execution_count": 25,
   "id": "9a476573",
   "metadata": {
    "execution": {
     "iopub.execute_input": "2022-07-31T15:09:13.662370Z",
     "iopub.status.busy": "2022-07-31T15:09:13.661934Z",
     "iopub.status.idle": "2022-07-31T15:09:13.680244Z",
     "shell.execute_reply": "2022-07-31T15:09:13.678967Z"
    },
    "papermill": {
     "duration": 0.044899,
     "end_time": "2022-07-31T15:09:13.682784",
     "exception": false,
     "start_time": "2022-07-31T15:09:13.637885",
     "status": "completed"
    },
    "tags": []
   },
   "outputs": [
    {
     "data": {
      "text/html": [
       "<div>\n",
       "<style scoped>\n",
       "    .dataframe tbody tr th:only-of-type {\n",
       "        vertical-align: middle;\n",
       "    }\n",
       "\n",
       "    .dataframe tbody tr th {\n",
       "        vertical-align: top;\n",
       "    }\n",
       "\n",
       "    .dataframe thead th {\n",
       "        text-align: right;\n",
       "    }\n",
       "</style>\n",
       "<table border=\"1\" class=\"dataframe\">\n",
       "  <thead>\n",
       "    <tr style=\"text-align: right;\">\n",
       "      <th></th>\n",
       "      <th>genres</th>\n",
       "      <th>tmdb_score</th>\n",
       "    </tr>\n",
       "  </thead>\n",
       "  <tbody>\n",
       "    <tr>\n",
       "      <th>18</th>\n",
       "      <td>western</td>\n",
       "      <td>37.801</td>\n",
       "    </tr>\n",
       "    <tr>\n",
       "      <th>17</th>\n",
       "      <td>war</td>\n",
       "      <td>334.747</td>\n",
       "    </tr>\n",
       "    <tr>\n",
       "      <th>15</th>\n",
       "      <td>sport</td>\n",
       "      <td>404.579</td>\n",
       "    </tr>\n",
       "    <tr>\n",
       "      <th>9</th>\n",
       "      <td>history</td>\n",
       "      <td>569.991</td>\n",
       "    </tr>\n",
       "    <tr>\n",
       "      <th>11</th>\n",
       "      <td>music</td>\n",
       "      <td>591.703</td>\n",
       "    </tr>\n",
       "  </tbody>\n",
       "</table>\n",
       "</div>"
      ],
      "text/plain": [
       "     genres  tmdb_score\n",
       "18  western      37.801\n",
       "17      war     334.747\n",
       "15    sport     404.579\n",
       "9   history     569.991\n",
       "11    music     591.703"
      ]
     },
     "execution_count": 25,
     "metadata": {},
     "output_type": "execute_result"
    }
   ],
   "source": [
    "b = df.groupby('genres')[['tmdb_score']].sum().reset_index().sort_values(by='tmdb_score')\n",
    "b.head()"
   ]
  },
  {
   "cell_type": "code",
   "execution_count": 26,
   "id": "b7e81c32",
   "metadata": {
    "execution": {
     "iopub.execute_input": "2022-07-31T15:09:13.731341Z",
     "iopub.status.busy": "2022-07-31T15:09:13.730538Z",
     "iopub.status.idle": "2022-07-31T15:09:14.163799Z",
     "shell.execute_reply": "2022-07-31T15:09:14.162888Z"
    },
    "papermill": {
     "duration": 0.460402,
     "end_time": "2022-07-31T15:09:14.166327",
     "exception": false,
     "start_time": "2022-07-31T15:09:13.705925",
     "status": "completed"
    },
    "tags": []
   },
   "outputs": [
    {
     "data": {
      "image/png": "[encoded data removed]",
      "text/plain": [
       "<Figure size 1080x720 with 1 Axes>"
      ]
     },
     "metadata": {},
     "output_type": "display_data"
    }
   ],
   "source": [
    "figure_size()\n",
    "sns.barplot(x='genres', y='tmdb_score', data=b, palette = 'magma')\n",
    "plt.xticks(rotation=45)\n",
    "plt.show()"
   ]
  },
  {
   "cell_type": "code",
   "execution_count": 27,
   "id": "7713588e",
   "metadata": {
    "execution": {
     "iopub.execute_input": "2022-07-31T15:09:14.216415Z",
     "iopub.status.busy": "2022-07-31T15:09:14.215649Z",
     "iopub.status.idle": "2022-07-31T15:09:14.583874Z",
     "shell.execute_reply": "2022-07-31T15:09:14.582685Z"
    },
    "papermill": {
     "duration": 0.396456,
     "end_time": "2022-07-31T15:09:14.586591",
     "exception": false,
     "start_time": "2022-07-31T15:09:14.190135",
     "status": "completed"
    },
    "tags": []
   },
   "outputs": [
    {
     "data": {
      "image/png": "[encoded data removed]",
      "text/plain": [
       "<Figure size 1080x720 with 2 Axes>"
      ]
     },
     "metadata": {},
     "output_type": "display_data"
    }
   ],
   "source": [
    "df_num = df[['release_year', 'runtime',   'seasons',  'imdb_score', 'imdb_votes', 'tmdb_popularity',  'tmdb_score']]\n",
    "figure_size()\n",
    "sns.heatmap(df_num.corr())\n",
    "plt.show()"
   ]
  }
 ],
 "metadata": {
  "kernelspec": {
   "display_name": "Python 3 (ipykernel)",
   "language": "python",
   "name": "python3"
  },
  "language_info": {
   "codemirror_mode": {
    "name": "ipython",
    "version": 3
   },
   "file_extension": ".py",
   "mimetype": "text/x-python",
   "name": "python",
   "nbconvert_exporter": "python",
   "pygments_lexer": "ipython3",
   "version": "3.9.13"
  },
  "papermill": {
   "default_parameters": {},
   "duration": 24.226161,
   "end_time": "2022-07-31T15:09:15.632133",
   "environment_variables": {},
   "exception": null,
   "input_path": "__notebook__.ipynb",
   "output_path": "__notebook__.ipynb",
   "parameters": {},
   "start_time": "2022-07-31T15:08:51.405972",
   "version": "2.3.4"
  }
 },
 "nbformat": 4,
 "nbformat_minor": 5
}
